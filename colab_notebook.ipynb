{
  "nbformat": 4,
  "nbformat_minor": 0,
  "metadata": {
    "colab": {
      "provenance": [],
      "machine_shape": "hm",
      "gpuType": "A100",
      "authorship_tag": "ABX9TyOxjUJ8y7zAi6GCktWPI50u"
    },
    "kernelspec": {
      "name": "python3",
      "display_name": "Python 3"
    },
    "language_info": {
      "name": "python"
    },
    "accelerator": "GPU"
  },
  "cells": [
    {
      "cell_type": "code",
      "execution_count": 1,
      "metadata": {
        "colab": {
          "base_uri": "https://localhost:8080/"
        },
        "id": "EUFS3gOyq6KY",
        "outputId": "ba14ed49-51ff-4370-9679-e691d70096f5"
      },
      "outputs": [
        {
          "output_type": "stream",
          "name": "stdout",
          "text": [
            "Cloning into 'RTA-Project'...\n",
            "remote: Enumerating objects: 71, done.\u001b[K\n",
            "remote: Counting objects: 100% (68/68), done.\u001b[K\n",
            "remote: Compressing objects: 100% (60/60), done.\u001b[K\n",
            "remote: Total 71 (delta 18), reused 41 (delta 6), pack-reused 3\u001b[K\n",
            "Receiving objects: 100% (71/71), 77.18 MiB | 14.63 MiB/s, done.\n",
            "Resolving deltas: 100% (18/18), done.\n"
          ]
        }
      ],
      "source": [
        "!git clone https://github.com/zack-horton/RTA-Project.git"
      ]
    },
    {
      "cell_type": "code",
      "source": [
        "%cd RTA-Project\n",
        "%ls"
      ],
      "metadata": {
        "colab": {
          "base_uri": "https://localhost:8080/"
        },
        "id": "6vfUTQIQs7YT",
        "outputId": "168b7582-6c86-4c17-e156-d3d95838d030"
      },
      "execution_count": 2,
      "outputs": [
        {
          "output_type": "stream",
          "name": "stdout",
          "text": [
            "/content/RTA-Project\n",
            "cleaning.py  \u001b[0m\u001b[01;34mdata\u001b[0m/  missing_prices.py  \u001b[01;34mmodels\u001b[0m/  README.md  split_data.py  uber_lyft_file.zip\n"
          ]
        }
      ]
    },
    {
      "cell_type": "code",
      "source": [
        "!python models/forest.py"
      ],
      "metadata": {
        "colab": {
          "base_uri": "https://localhost:8080/"
        },
        "id": "9hwsWhUPs_wT",
        "outputId": "9abcb1fc-31b6-4a27-a6d2-5e17f966cf4a"
      },
      "execution_count": 3,
      "outputs": [
        {
          "output_type": "stream",
          "name": "stdout",
          "text": [
            "[CV 8/10] END ccp_alpha=0.01, max_depth=8, min_samples_leaf=16;, score=0.966 total time=   2.3s\n",
            "[CV 9/10] END ccp_alpha=0.01, max_depth=8, min_samples_leaf=16;, score=0.966 total time=   2.3s\n",
            "[CV 10/10] END ccp_alpha=0.01, max_depth=8, min_samples_leaf=16;, score=0.968 total time=   2.3s\n",
            "Traceback (most recent call last):\n",
            "  File \"/content/RTA-Project/models/forest.py\", line 135, in <module>\n",
            "    fit_forest(lyft_train_x, lyft_train_y, lyft_test_x, lyft_test_y, \"lyft\", save_model=True)\n",
            "  File \"/content/RTA-Project/models/forest.py\", line 125, in fit_forest\n",
            "    fit_DT(train_x, train_y, test_x, test_y, company, save_model)\n",
            "  File \"/content/RTA-Project/models/forest.py\", line 96, in fit_DT\n",
            "    y_test_pred = model.predict(test_x)\n",
            "  File \"/usr/local/lib/python3.10/dist-packages/sklearn/tree/_classes.py\", line 425, in predict\n",
            "    check_is_fitted(self)\n",
            "  File \"/usr/local/lib/python3.10/dist-packages/sklearn/utils/validation.py\", line 1390, in check_is_fitted\n",
            "    raise NotFittedError(msg % {\"name\": type(estimator).__name__})\n",
            "sklearn.exceptions.NotFittedError: This DecisionTreeRegressor instance is not fitted yet. Call 'fit' with appropriate arguments before using this estimator.\n"
          ]
        }
      ]
    }
  ]
}